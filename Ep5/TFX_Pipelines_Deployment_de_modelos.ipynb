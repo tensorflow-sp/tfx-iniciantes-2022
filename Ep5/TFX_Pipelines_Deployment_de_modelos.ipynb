{
  "nbformat": 4,
  "nbformat_minor": 0,
  "metadata": {
    "colab": {
      "name": "TFX Pipelines - Deployment de modelos.ipynb",
      "provenance": [],
      "collapsed_sections": []
    },
    "kernelspec": {
      "name": "python3",
      "display_name": "Python 3"
    },
    "language_info": {
      "name": "python"
    }
  },
  "cells": [
    {
      "cell_type": "markdown",
      "source": [
        "[![Open In Colab](https://colab.research.google.com/assets/colab-badge.svg)](https://colab.research.google.com/drive/1jGVvKlJfUX2_uMuLN6n0SRF8U-h8akLA?usp=sharing)"
      ],
      "metadata": {
        "id": "Ee09hpYJ4U-d"
      }
    },
    {
      "cell_type": "markdown",
      "source": [
        "# Treinamento e validação de modelos no TFX"
      ],
      "metadata": {
        "id": "f-DlSqPqOiVZ"
      }
    },
    {
      "cell_type": "markdown",
      "source": [
        "Nesse notebook iremos criar e executar um Pipeline do TFX para treinar e validar um modelo."
      ],
      "metadata": {
        "id": "vq0-TQblOnzS"
      }
    },
    {
      "cell_type": "markdown",
      "source": [
        "## Introdução"
      ],
      "metadata": {
        "id": "GljkWbaAOskd"
      }
    },
    {
      "cell_type": "markdown",
      "source": [
        "### Motivação\n",
        "\n",
        "Fizemos um modelo. Como podemos servi-lo de forma confiável para gere valor para a empresa? E como podemos prepara-lo para isso de forma automática com TFx?"
      ],
      "metadata": {
        "id": "zKcCeJeyO_ws"
      }
    },
    {
      "cell_type": "markdown",
      "source": [
        "### Pipeline que iremos construir"
      ],
      "metadata": {
        "id": "7BuTJ13BPy0O"
      }
    },
    {
      "cell_type": "markdown",
      "source": [
        "![image.png](data:image/png;base64,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)"
      ],
      "metadata": {
        "id": "EWktf1jKtXHF"
      }
    },
    {
      "cell_type": "markdown",
      "source": [
        "## Execução"
      ],
      "metadata": {
        "id": "tQE-rd9kP4Zd"
      }
    },
    {
      "cell_type": "markdown",
      "source": [
        "### Configuração do ambiente"
      ],
      "metadata": {
        "id": "29gCG7a2P681"
      }
    },
    {
      "cell_type": "code",
      "execution_count": null,
      "metadata": {
        "id": "f-t2GDD2iG_x"
      },
      "outputs": [],
      "source": [
        "# Garantir que temos a biblioteca colab e que o pip está atualizado\n",
        "try:\n",
        "  import colab\n",
        "  !pip install --upgrade pip\n",
        "except:\n",
        "  pass"
      ]
    },
    {
      "cell_type": "code",
      "source": [
        "# Instalando TFX\n",
        "!pip install -U tfx --quiet"
      ],
      "metadata": {
        "id": "-qJ92JpsmALz"
      },
      "execution_count": null,
      "outputs": []
    },
    {
      "cell_type": "markdown",
      "source": [
        "Após a instalação, reinicie seu ambiente para garantir que o Colab veja o TFX. Para isso, clique em \"Ambiente de execução\" $\\rightarrow$ \"Reiniciar ambiente de execução\".\n",
        "\n",
        "Feito isso, comece a executar a partir da próxima célula."
      ],
      "metadata": {
        "id": "zveV7I-KP_Qs"
      }
    },
    {
      "cell_type": "code",
      "source": [
        "from tfx import v1 as tfx\n",
        "print('TFX version: {}'.format(tfx.__version__))"
      ],
      "metadata": {
        "id": "h4GrpZ72mBYy"
      },
      "execution_count": null,
      "outputs": []
    },
    {
      "cell_type": "markdown",
      "source": [
        "### Utils"
      ],
      "metadata": {
        "id": "RGpKOpuYQB0C"
      }
    },
    {
      "cell_type": "code",
      "source": [
        "from ml_metadata.proto import metadata_store_pb2\n",
        "# Non-public APIs, just for showcase.\n",
        "from tfx.orchestration.portable.mlmd import execution_lib\n",
        "\n",
        "# TODO(b/171447278): Move these functions into the TFX library.\n",
        "\n",
        "def get_latest_artifacts(metadata, pipeline_name, component_id):\n",
        "  \"\"\"Output artifacts of the latest run of the component.\"\"\"\n",
        "  context = metadata.store.get_context_by_type_and_name(\n",
        "      'node', f'{pipeline_name}.{component_id}')\n",
        "  executions = metadata.store.get_executions_by_context(context.id)\n",
        "  latest_execution = max(executions,\n",
        "                         key=lambda e:e.last_update_time_since_epoch)\n",
        "  return execution_lib.get_artifacts_dict(metadata, latest_execution.id,\n",
        "                                          [metadata_store_pb2.Event.OUTPUT])\n",
        "\n",
        "# Non-public APIs, just for showcase.\n",
        "from tfx.orchestration.experimental.interactive import visualizations\n",
        "\n",
        "def visualize_artifacts(artifacts):\n",
        "  \"\"\"Visualizes artifacts using standard visualization modules.\"\"\"\n",
        "  for artifact in artifacts:\n",
        "    visualization = visualizations.get_registry().get_visualization(\n",
        "        artifact.type_name)\n",
        "    print(visualization)\n",
        "    if visualization:\n",
        "      visualization.display(artifact)\n",
        "\n",
        "from tfx.orchestration.experimental.interactive import standard_visualizations\n",
        "standard_visualizations.register_standard_visualizations()"
      ],
      "metadata": {
        "id": "5NSRYo1JmC2A"
      },
      "execution_count": null,
      "outputs": []
    },
    {
      "cell_type": "markdown",
      "source": [
        "### Iniciando nosso experimento"
      ],
      "metadata": {
        "id": "YcTb0DRMQMJM"
      }
    },
    {
      "cell_type": "code",
      "source": [
        "import os\n",
        "\n",
        "# Vamos definir os nomes dos nossos pipelines para definirmos\n",
        "# as pastas onde iremos salvas os artefatos gerados\n",
        "PIPELINE = \"iris\"\n",
        "\n",
        "# Pastas onde iremos salvar os outputs\n",
        "PIPELINE_ROOT = os.path.join('pipelines', PIPELINE)\n",
        "\n",
        "# Caminho para o banco de dados SQLite que usaremos como nosso banco de metadata\n",
        "METADATA_PIPELINE_PATH = os.path.join('metadata', PIPELINE, 'metadata.db')"
      ],
      "metadata": {
        "id": "TC5sA7eMmEB4"
      },
      "execution_count": null,
      "outputs": []
    },
    {
      "cell_type": "markdown",
      "source": [
        "#### Preparando os dados\n",
        "\n"
      ],
      "metadata": {
        "id": "VYfO9FvzQPnu"
      }
    },
    {
      "cell_type": "code",
      "source": [
        "import urllib.request\n",
        "import tempfile\n",
        "\n",
        "DATA_ROOT = tempfile.mkdtemp(prefix='tfx-data')  # Criando pasta temporária\n",
        "_data_url = 'https://forge.scilab.org/index.php/p/rdataset/source/file/master/csv/datasets/iris.csv'\n",
        "_data_filepath = os.path.join(DATA_ROOT, \"data.csv\")\n",
        "urllib.request.urlretrieve(_data_url, _data_filepath)"
      ],
      "metadata": {
        "id": "VEEG5KugnTRS"
      },
      "execution_count": null,
      "outputs": []
    },
    {
      "cell_type": "code",
      "source": [
        "import pandas as pd\n",
        "\n",
        "df = pd.read_csv(_data_filepath, index_col=0)\n",
        "df.head()"
      ],
      "metadata": {
        "id": "riLRfNMVnUqk"
      },
      "execution_count": null,
      "outputs": []
    },
    {
      "cell_type": "code",
      "source": [
        "!mkdir data\n",
        "!mkdir data/train\n",
        "!mkdir data/eval"
      ],
      "metadata": {
        "id": "igfttY3OnV78"
      },
      "execution_count": null,
      "outputs": []
    },
    {
      "cell_type": "code",
      "source": [
        "df.to_csv('data/iris.csv', index = False)\n",
        "df['Species'] = df['Species'].map({'setosa': 0, 'versicolor': 1, 'virginica': 2})\n",
        "df = df.sample(frac=1)\n",
        "df_train = df.iloc[:100]\n",
        "df_eval  = df.iloc[100:]\n",
        "df_train.to_csv('data/train/iris_train.csv', index = False)\n",
        "df_eval.to_csv('data/eval/iris_eval.csv', index = False)"
      ],
      "metadata": {
        "id": "UKAQIhp-nXSj"
      },
      "execution_count": null,
      "outputs": []
    },
    {
      "cell_type": "markdown",
      "source": [
        "### Pipeline da aula passada: Transform"
      ],
      "metadata": {
        "id": "HeySxvlVQV5S"
      }
    },
    {
      "cell_type": "code",
      "source": [
        "from tfx.proto import example_gen_pb2\n",
        "from tfx.v1.proto import Input"
      ],
      "metadata": {
        "id": "XN64kMOunYPh"
      },
      "execution_count": null,
      "outputs": []
    },
    {
      "cell_type": "code",
      "source": [
        "_module_file = 'preprocessing.py'"
      ],
      "metadata": {
        "id": "ottFET0UnjuO"
      },
      "execution_count": null,
      "outputs": []
    },
    {
      "cell_type": "code",
      "source": [
        "%%writefile {_module_file}\n",
        "\n",
        "import tensorflow as tf\n",
        "import tensorflow_transform as tft\n",
        "\n",
        "# Essa será a funcao chamada pelo Transform\n",
        "def preprocessing_fn(inputs):\n",
        "  \"\"\"tf.transform's callback function for preprocessing inputs.\n",
        "\n",
        "  Args:\n",
        "    inputs: map from feature keys to raw not-yet-transformed features.\n",
        "\n",
        "  Returns:\n",
        "    Map from string feature key to transformed feature.\n",
        "  \"\"\"\n",
        "  outputs = {}\n",
        "  outputs['Sepal.Length'] = tft.scale_by_min_max(inputs['Sepal.Length'])\n",
        "  outputs['Sepal.Width'] = tft.scale_by_min_max(inputs['Sepal.Width'])\n",
        "  outputs['Petal.Length'] = tft.scale_by_min_max(inputs['Petal.Length'])\n",
        "  outputs['Petal.Width'] = tft.scale_by_min_max(inputs['Petal.Width'])\n",
        "  outputs['Species'] = inputs['Species']\n",
        "  return outputs"
      ],
      "metadata": {
        "id": "a7Xm-GIEnkxT"
      },
      "execution_count": null,
      "outputs": []
    },
    {
      "cell_type": "code",
      "source": [
        "def _create_transform_pipeline(pipeline_name: str,\n",
        "                            pipeline_root: str,\n",
        "                            data_root: str,\n",
        "                            metadata_path: str) -> tfx.dsl.Pipeline:\n",
        "  \"\"\"Creates a pipeline for schema generation.\"\"\"\n",
        "  # Ingestão de dados\n",
        "  input = Input(splits=[\n",
        "                example_gen_pb2.Input.Split(name='train', pattern='train/*'),\n",
        "                example_gen_pb2.Input.Split(name='eval', pattern='eval/*')\n",
        "            ])\n",
        "  example_gen = tfx.components.CsvExampleGen(input_base=data_root, input_config=input)\n",
        "\n",
        "  # Computa as estatísticas para visualização e geração do schema\n",
        "  statistics_gen = tfx.components.StatisticsGen(\n",
        "      examples=example_gen.outputs['examples'])\n",
        "\n",
        "  # Gera o schema baseado nas estatísticas\n",
        "  schema_gen = tfx.components.SchemaGen(\n",
        "      statistics=statistics_gen.outputs['statistics'], infer_feature_shape=True)\n",
        "\n",
        "  transform = tfx.components.Transform(\n",
        "      examples=example_gen.outputs['examples'],\n",
        "      schema=schema_gen.outputs['schema'],\n",
        "      materialize=True,\n",
        "      module_file=_module_file)\n",
        "\n",
        "  components = [\n",
        "      example_gen,\n",
        "      statistics_gen,\n",
        "      schema_gen,\n",
        "      transform\n",
        "  ]\n",
        "\n",
        "  return tfx.dsl.Pipeline(\n",
        "      pipeline_name=pipeline_name,\n",
        "      pipeline_root=pipeline_root,\n",
        "      metadata_connection_config=tfx.orchestration.metadata\n",
        "      .sqlite_metadata_connection_config(metadata_path),\n",
        "      components=components)"
      ],
      "metadata": {
        "id": "nY620MHKnevZ"
      },
      "execution_count": null,
      "outputs": []
    },
    {
      "cell_type": "code",
      "source": [
        "tfx.orchestration.LocalDagRunner().run(\n",
        "  _create_transform_pipeline(\n",
        "      pipeline_name=PIPELINE,\n",
        "      pipeline_root=PIPELINE_ROOT,\n",
        "      data_root='data',\n",
        "      metadata_path=METADATA_PIPELINE_PATH))"
      ],
      "metadata": {
        "id": "M4bvYPc8n3PF"
      },
      "execution_count": null,
      "outputs": []
    },
    {
      "cell_type": "markdown",
      "source": [
        "### Pipeline com treinamento: Explicando o componente Trainer\n",
        "\n",
        "O componente Trainer é quem de fato executa o treinamento. Ele recebe como input:\n",
        "\n",
        "- um arquivo .py com uma função *run_fn()* definida nessa arquivo, a qual será o ponto de entrada para iniciar o treinamento do modelo;\n",
        "- os exemplos transformados gerados como saída do Transform;\n",
        "- o grafo de operações gerado como saída do Transform;\n",
        "- o schema gerado pelo componente SchemaGen ou pelo Transform;\n",
        "- número de steps por época."
      ],
      "metadata": {
        "id": "TmV5nPR_QiyQ"
      }
    },
    {
      "cell_type": "code",
      "source": [
        "_trainer_module_file = 'iris_trainer.py'"
      ],
      "metadata": {
        "id": "2ChwQCSRn4UC"
      },
      "execution_count": null,
      "outputs": []
    },
    {
      "cell_type": "code",
      "source": [
        "%%writefile {_trainer_module_file}\n",
        "\n",
        "# Copied from https://www.tensorflow.org/tfx/tutorials/tfx/penguin_simple\n",
        "\n",
        "from typing import List\n",
        "from absl import logging\n",
        "import tensorflow as tf\n",
        "from tensorflow import keras\n",
        "from tensorflow_transform.tf_metadata import schema_utils\n",
        "\n",
        "from tfx import v1 as tfx\n",
        "from tfx_bsl.public import tfxio\n",
        "from tensorflow_metadata.proto.v0 import schema_pb2\n",
        "\n",
        "_LABEL_KEY = 'Species'\n",
        "\n",
        "_TRAIN_BATCH_SIZE = 100\n",
        "_EVAL_BATCH_SIZE = 50\n",
        "\n",
        "def _input_fn(file_pattern: List[str],\n",
        "              data_accessor: tfx.components.DataAccessor,\n",
        "              schema: schema_pb2.Schema,\n",
        "              batch_size: int) -> tf.data.Dataset:\n",
        "  \"\"\"Generates features and label for training.\n",
        "\n",
        "  Args:\n",
        "    file_pattern: List of paths or patterns of input tfrecord files.\n",
        "    data_accessor: DataAccessor for converting input to RecordBatch.\n",
        "    schema: schema of the input data.\n",
        "    batch_size: representing the number of consecutive elements of returned\n",
        "      dataset to combine in a single batch\n",
        "\n",
        "  Returns:\n",
        "    A dataset that contains (features, indices) tuple where features is a\n",
        "      dictionary of Tensors, and indices is a single Tensor of label indices.\n",
        "  \"\"\"\n",
        "  return data_accessor.tf_dataset_factory(\n",
        "      file_pattern,\n",
        "      tfxio.TensorFlowDatasetOptions(\n",
        "          batch_size=batch_size, label_key=_LABEL_KEY),\n",
        "      schema=schema).repeat()\n",
        "\n",
        "\n",
        "def _make_keras_model(schema: schema_pb2.Schema) -> tf.keras.Model:\n",
        "  \"\"\"Creates a DNN Keras model for classifying iris data.\n",
        "\n",
        "  Returns:\n",
        "    A Keras Model.\n",
        "  \"\"\"\n",
        "  feature_keys = [f.name for f in schema.feature if f.name != _LABEL_KEY]\n",
        "  inputs = [keras.layers.Input(shape=(1,), name=f) for f in feature_keys]\n",
        "  d = keras.layers.concatenate(inputs)\n",
        "  for _ in range(2):\n",
        "    d = keras.layers.Dense(10, activation='linear')(d)\n",
        "  outputs = keras.layers.Dense(3)(d)\n",
        "\n",
        "  model = keras.Model(inputs=inputs, outputs=outputs)\n",
        "  model.compile(\n",
        "      optimizer=keras.optimizers.Adam(1e-2),\n",
        "      loss=tf.keras.losses.SparseCategoricalCrossentropy(from_logits=True),\n",
        "      metrics=[keras.metrics.SparseCategoricalAccuracy()])\n",
        "\n",
        "  model.summary(print_fn=logging.info)\n",
        "  return model\n",
        "\n",
        "\n",
        "# TFX Trainer will call this function.\n",
        "def run_fn(fn_args: tfx.components.FnArgs):\n",
        "  \"\"\"Train the model based on given args.\n",
        "\n",
        "  Args:\n",
        "    fn_args: Holds args used to train the model as name/value pairs.\n",
        "  \"\"\"\n",
        "  schema = tfx.utils.parse_pbtxt_file(fn_args.schema_path, schema_pb2.Schema())\n",
        "\n",
        "  train_dataset = _input_fn(\n",
        "      fn_args.train_files,\n",
        "      fn_args.data_accessor,\n",
        "      schema,\n",
        "      batch_size=_TRAIN_BATCH_SIZE)\n",
        "  eval_dataset = _input_fn(\n",
        "      fn_args.eval_files,\n",
        "      fn_args.data_accessor,\n",
        "      schema,\n",
        "      batch_size=_EVAL_BATCH_SIZE)\n",
        "\n",
        "  model = _make_keras_model(schema)\n",
        "\n",
        "  tensorboard_callback = tf.keras.callbacks.TensorBoard(\n",
        "      log_dir=fn_args.model_run_dir, update_freq='batch')\n",
        "\n",
        "  model.fit(\n",
        "      train_dataset,\n",
        "      epochs=20,\n",
        "      steps_per_epoch=fn_args.train_steps,\n",
        "      validation_data=eval_dataset,\n",
        "      validation_steps=fn_args.eval_steps,\n",
        "      callbacks=[tensorboard_callback])\n",
        "\n",
        "  # The result of the training should be saved in `fn_args.serving_model_dir`\n",
        "  # directory.\n",
        "  model.save(fn_args.serving_model_dir, save_format='tf')"
      ],
      "metadata": {
        "id": "-VFTKYSGo7iG"
      },
      "execution_count": null,
      "outputs": []
    },
    {
      "cell_type": "code",
      "source": [
        "def _create_trainer_pipeline(pipeline_name: str,\n",
        "                            pipeline_root: str,\n",
        "                            data_root: str,\n",
        "                            metadata_path: str) -> tfx.dsl.Pipeline:\n",
        "  \"\"\"Creates a pipeline for schema generation.\"\"\"\n",
        "  # Ingestão de dados\n",
        "  input = Input(splits=[\n",
        "                example_gen_pb2.Input.Split(name='train', pattern='train/*'),\n",
        "                example_gen_pb2.Input.Split(name='eval', pattern='eval/*')\n",
        "            ])\n",
        "  example_gen = tfx.components.CsvExampleGen(input_base=data_root, input_config=input)\n",
        "\n",
        "  # Computa as estatísticas para visualização e geração do schema\n",
        "  statistics_gen = tfx.components.StatisticsGen(\n",
        "      examples=example_gen.outputs['examples'])\n",
        "\n",
        "  # Gera o schema baseado nas estatísticas\n",
        "  schema_gen = tfx.components.SchemaGen(\n",
        "      statistics=statistics_gen.outputs['statistics'], infer_feature_shape=True)\n",
        "  \n",
        "  trainer = tfx.components.Trainer(\n",
        "    module_file=os.path.abspath(_trainer_module_file),\n",
        "    examples=example_gen.outputs['examples'],\n",
        "    schema=schema_gen.outputs['schema'],\n",
        "    train_args=tfx.proto.TrainArgs(num_steps=1),\n",
        "    eval_args=tfx.proto.EvalArgs(num_steps=1))\n",
        "\n",
        "  components = [\n",
        "      example_gen,\n",
        "      statistics_gen,\n",
        "      schema_gen,\n",
        "      trainer\n",
        "  ]\n",
        "\n",
        "  return tfx.dsl.Pipeline(\n",
        "      pipeline_name=pipeline_name,\n",
        "      pipeline_root=pipeline_root,\n",
        "      metadata_connection_config=tfx.orchestration.metadata\n",
        "      .sqlite_metadata_connection_config(metadata_path),\n",
        "      components=components)"
      ],
      "metadata": {
        "id": "eglQIM14q3sa"
      },
      "execution_count": null,
      "outputs": []
    },
    {
      "cell_type": "code",
      "source": [
        "tfx.orchestration.LocalDagRunner().run(\n",
        "  _create_trainer_pipeline(\n",
        "      pipeline_name=PIPELINE,\n",
        "      pipeline_root=PIPELINE_ROOT,\n",
        "      data_root='data',\n",
        "      metadata_path=METADATA_PIPELINE_PATH))"
      ],
      "metadata": {
        "id": "yqvfhnuGrDco"
      },
      "execution_count": null,
      "outputs": []
    },
    {
      "cell_type": "code",
      "source": [
        "from tfx.orchestration.metadata import Metadata\n",
        "from tfx.types import standard_component_specs\n",
        "\n",
        "# Conectando ao banco de dados de metadata\n",
        "metadata_connection_config = tfx.orchestration.metadata.sqlite_metadata_connection_config(\n",
        "    METADATA_PIPELINE_PATH)\n",
        "\n",
        "with Metadata(metadata_connection_config) as metadata_handler:\n",
        "  \n",
        "  # Pegando a ultima execução do StatisticsGen\n",
        "  trainer_output = get_latest_artifacts(metadata_handler, PIPELINE,\n",
        "                                         'Trainer')\n",
        "  model_run_artifacts = trainer_output[standard_component_specs.MODEL_RUN_KEY]"
      ],
      "metadata": {
        "id": "UllsCGINxCgU"
      },
      "execution_count": null,
      "outputs": []
    },
    {
      "cell_type": "code",
      "source": [
        "model_run_artifact_dir = model_run_artifacts[0].uri\n",
        "\n",
        "%reload_ext tensorboard\n",
        "%tensorboard --logdir {model_run_artifact_dir}"
      ],
      "metadata": {
        "id": "e0OQcy9GxxLG"
      },
      "execution_count": null,
      "outputs": []
    },
    {
      "cell_type": "markdown",
      "source": [
        "### Pipeline com validação de modelo: Explicando o componente Evaluator\n",
        "\n",
        "O componente Evaluator faz uso da biblioteca TFMA para avaliação as predições do modelo no dataset de validação. Ele usa como entrada:\n",
        "\n",
        "- a saída do componente ExampleGen (os exemplos);\n",
        "- a saída do componente Trainer (o modelo);\n",
        "- arquivo de configuração definido pelo usuário."
      ],
      "metadata": {
        "id": "Xy0xT8PmRIMl"
      }
    },
    {
      "cell_type": "code",
      "source": [
        "import tensorflow_model_analysis as tfma\n",
        "\n",
        "eval_config = tfma.EvalConfig(\n",
        "    model_specs=[\n",
        "        tfma.ModelSpec(label_key='Species')\n",
        "        ],\n",
        "    slicing_specs=[tfma.SlicingSpec()],\n",
        "    metrics_specs=[\n",
        "                   tfma.MetricsSpec(metrics=[\n",
        "                      tfma.MetricConfig(class_name='ExampleCount'),\n",
        "                   ])\n",
        "    ]\n",
        "    )"
      ],
      "metadata": {
        "id": "51EmFjFAx0Vf"
      },
      "execution_count": null,
      "outputs": []
    },
    {
      "cell_type": "code",
      "source": [
        "def _create_evaluator_pipeline(pipeline_name: str,\n",
        "                            pipeline_root: str,\n",
        "                            data_root: str,\n",
        "                            metadata_path: str) -> tfx.dsl.Pipeline:\n",
        "  \"\"\"Creates a pipeline for schema generation.\"\"\"\n",
        "  # Ingestão de dados\n",
        "  # Ingestão de dados\n",
        "  input = Input(splits=[\n",
        "                example_gen_pb2.Input.Split(name='train', pattern='train/*'),\n",
        "                example_gen_pb2.Input.Split(name='eval', pattern='eval/*')\n",
        "            ])\n",
        "  example_gen = tfx.components.CsvExampleGen(input_base=data_root, input_config=input)\n",
        "\n",
        "  # Computa as estatísticas para visualização e geração do schema\n",
        "  statistics_gen = tfx.components.StatisticsGen(\n",
        "      examples=example_gen.outputs['examples'])\n",
        "\n",
        "  # Gera o schema baseado nas estatísticas\n",
        "  schema_gen = tfx.components.SchemaGen(\n",
        "      statistics=statistics_gen.outputs['statistics'], infer_feature_shape=True)\n",
        "  \n",
        "  trainer = tfx.components.Trainer(\n",
        "    module_file=os.path.abspath(_trainer_module_file),\n",
        "    examples=example_gen.outputs['examples'],\n",
        "    schema=schema_gen.outputs['schema'],\n",
        "    train_args=tfx.proto.TrainArgs(num_steps=1),\n",
        "    eval_args=tfx.proto.EvalArgs(num_steps=1))\n",
        "\n",
        "  evaluator = tfx.components.Evaluator(\n",
        "    examples=example_gen.outputs['examples'],\n",
        "    model=trainer.outputs['model'],\n",
        "    eval_config=eval_config)\n",
        "\n",
        "  components = [\n",
        "      example_gen,\n",
        "      statistics_gen,\n",
        "      schema_gen,\n",
        "      trainer,\n",
        "      evaluator\n",
        "  ]\n",
        "\n",
        "  return tfx.dsl.Pipeline(\n",
        "      pipeline_name=pipeline_name,\n",
        "      pipeline_root=pipeline_root,\n",
        "      metadata_connection_config=tfx.orchestration.metadata\n",
        "      .sqlite_metadata_connection_config(metadata_path),\n",
        "      components=components)"
      ],
      "metadata": {
        "id": "XgI3Zq6f2_1L"
      },
      "execution_count": null,
      "outputs": []
    },
    {
      "cell_type": "code",
      "source": [
        "tfx.orchestration.LocalDagRunner().run(\n",
        "  _create_evaluator_pipeline(\n",
        "      pipeline_name=PIPELINE,\n",
        "      pipeline_root=PIPELINE_ROOT,\n",
        "      data_root='data',\n",
        "      metadata_path=METADATA_PIPELINE_PATH))"
      ],
      "metadata": {
        "id": "uK7ok4ND3OQh"
      },
      "execution_count": null,
      "outputs": []
    },
    {
      "cell_type": "code",
      "source": [
        "from tfx.orchestration.metadata import Metadata\n",
        "from tfx.types import standard_component_specs\n",
        "\n",
        "# Conectando ao banco de dados de metadata\n",
        "metadata_connection_config = tfx.orchestration.metadata.sqlite_metadata_connection_config(\n",
        "    METADATA_PIPELINE_PATH)\n",
        "\n",
        "with Metadata(metadata_connection_config) as metadata_handler:\n",
        "  \n",
        "  # Pegando a ultima execução do StatisticsGen\n",
        "  evaluator_output = get_latest_artifacts(metadata_handler, PIPELINE,\n",
        "                                         'Evaluator')\n",
        "  trainer_output = get_latest_artifacts(metadata_handler, PIPELINE,\n",
        "                                         'Trainer')\n",
        "  evaluation_artifacts = evaluator_output[standard_component_specs.EVALUATION_KEY]\n",
        "  trainer_artifacts = trainer_output[standard_component_specs.MODEL_KEY]"
      ],
      "metadata": {
        "id": "lQCfWhQr3RQs"
      },
      "execution_count": null,
      "outputs": []
    },
    {
      "cell_type": "code",
      "source": [
        "visualize_artifacts(evaluation_artifacts)"
      ],
      "metadata": {
        "id": "o5RACV1l6h1n"
      },
      "execution_count": null,
      "outputs": []
    },
    {
      "cell_type": "markdown",
      "source": [
        "### Pipeline com validação de modelo: Explicando o componente Pusher\n",
        "\n",
        "O componente Pusher copia o modelo salvo para um diretório apontado nos parâmetros como `push_destination`. Pode ou não depender de blessings, que são outputs dados pelos compontentes de validação. Neste notebook, usaremos o blessing do `Evaluator`.\n",
        "\n",
        "Recebe como parâmetros:\n",
        "\n",
        "- a saída do componente Trainer (o modelo);\n",
        "- Um destino (bucket ou path de filesystem);\n",
        "- Eventualmente blessings de outros componentes."
      ],
      "metadata": {
        "id": "VYA83oKvPo7H"
      }
    },
    {
      "cell_type": "code",
      "source": [
        "def _create_pusher_pipeline(pipeline_name: str,\n",
        "                            pipeline_root: str,\n",
        "                            data_root: str,\n",
        "                            metadata_path: str) -> tfx.dsl.Pipeline:\n",
        "  \"\"\"Creates a pipeline for schema generation.\"\"\"\n",
        "  # Ingestão de dados\n",
        "  # Ingestão de dados\n",
        "  input = Input(splits=[\n",
        "                example_gen_pb2.Input.Split(name='train', pattern='train/*'),\n",
        "                example_gen_pb2.Input.Split(name='eval', pattern='eval/*')\n",
        "            ])\n",
        "  example_gen = tfx.components.CsvExampleGen(input_base=data_root, input_config=input)\n",
        "\n",
        "  # Computa as estatísticas para visualização e geração do schema\n",
        "  statistics_gen = tfx.components.StatisticsGen(\n",
        "      examples=example_gen.outputs['examples'])\n",
        "\n",
        "  # Gera o schema baseado nas estatísticas\n",
        "  schema_gen = tfx.components.SchemaGen(\n",
        "      statistics=statistics_gen.outputs['statistics'], infer_feature_shape=True)\n",
        "  \n",
        "  trainer = tfx.components.Trainer(\n",
        "    module_file=os.path.abspath(_trainer_module_file),\n",
        "    examples=example_gen.outputs['examples'],\n",
        "    schema=schema_gen.outputs['schema'],\n",
        "    train_args=tfx.proto.TrainArgs(num_steps=1),\n",
        "    eval_args=tfx.proto.EvalArgs(num_steps=1))\n",
        "\n",
        "  evaluator = tfx.components.Evaluator(\n",
        "    examples=example_gen.outputs['examples'],\n",
        "    model=trainer.outputs['model'],\n",
        "    eval_config=eval_config)\n",
        "\n",
        "  pusher = tfx.components.Pusher(\n",
        "      model=trainer.outputs['model'],\n",
        "      # model_blessing=evaluator.outputs['blessing'],\n",
        "      push_destination=tfx.proto.PushDestination(\n",
        "          filesystem=tfx.proto.PushDestination.Filesystem(\n",
        "              base_directory=\"/content/models-to-serve/iris-model\"))\n",
        "    )\n",
        "\n",
        "  components = [\n",
        "      example_gen,\n",
        "      statistics_gen,\n",
        "      schema_gen,\n",
        "      trainer,\n",
        "      evaluator,\n",
        "      pusher\n",
        "  ]\n",
        "\n",
        "  return tfx.dsl.Pipeline(\n",
        "      pipeline_name=pipeline_name,\n",
        "      pipeline_root=pipeline_root,\n",
        "      metadata_connection_config=tfx.orchestration.metadata\n",
        "      .sqlite_metadata_connection_config(metadata_path),\n",
        "      components=components)"
      ],
      "metadata": {
        "id": "HeuV4fUiQSs2"
      },
      "execution_count": null,
      "outputs": []
    },
    {
      "cell_type": "code",
      "source": [
        "tfx.orchestration.LocalDagRunner().run(\n",
        "  _create_pusher_pipeline(\n",
        "      pipeline_name=PIPELINE,\n",
        "      pipeline_root=PIPELINE_ROOT,\n",
        "      data_root='data',\n",
        "      metadata_path=METADATA_PIPELINE_PATH))"
      ],
      "metadata": {
        "id": "jrVKCCHeQWOT"
      },
      "execution_count": null,
      "outputs": []
    },
    {
      "cell_type": "code",
      "source": [
        "from tfx.orchestration.metadata import Metadata\n",
        "from tfx.types import standard_component_specs\n",
        "\n",
        "# Conectando ao banco de dados de metadata\n",
        "metadata_connection_config = tfx.orchestration.metadata.sqlite_metadata_connection_config(\n",
        "    METADATA_PIPELINE_PATH)\n",
        "\n",
        "with Metadata(metadata_connection_config) as metadata_handler:\n",
        "  \n",
        "  # Pegando a ultima execução do StatisticsGen\n",
        "  evaluator_output = get_latest_artifacts(metadata_handler, PIPELINE,\n",
        "                                         'Evaluator')\n",
        "  trainer_output = get_latest_artifacts(metadata_handler, PIPELINE,\n",
        "                                         'Trainer')\n",
        "  evaluation_artifacts = evaluator_output[standard_component_specs.EVALUATION_KEY]\n",
        "  trainer_artifacts = trainer_output[standard_component_specs.MODEL_KEY]\n",
        "  \n",
        "  pusher_output = get_latest_artifacts(metadata_handler, PIPELINE,\n",
        "                                      'Pusher')\n",
        "  \n",
        "  pusher_artifacts = pusher_output[standard_component_specs.PUSHED_MODEL_KEY]"
      ],
      "metadata": {
        "id": "DyWjXbkxQbSl"
      },
      "execution_count": null,
      "outputs": []
    },
    {
      "cell_type": "code",
      "source": [
        "pusher_artifacts[0]"
      ],
      "metadata": {
        "id": "Axn2E98rRcD_"
      },
      "execution_count": null,
      "outputs": []
    },
    {
      "cell_type": "code",
      "source": [
        "pushed_model_uri = pusher_artifacts[0].get_custom_property(\"pushed_destination\")"
      ],
      "metadata": {
        "id": "yGHK4Q3pQdxN"
      },
      "execution_count": null,
      "outputs": []
    },
    {
      "cell_type": "code",
      "source": [
        "print(pushed_model_uri)"
      ],
      "metadata": {
        "id": "wXbmWhlcUUFD"
      },
      "execution_count": null,
      "outputs": []
    },
    {
      "cell_type": "markdown",
      "source": [
        "### Validando o modelo que treinamos e conferindo o resultado"
      ],
      "metadata": {
        "id": "nZXfor49RQ9R"
      }
    },
    {
      "cell_type": "code",
      "source": [
        "from tensorflow import keras\n",
        "import tensorflow as tf\n",
        "model = keras.models.load_model(pushed_model_uri)"
      ],
      "metadata": {
        "id": "i1WcVMT77WH3"
      },
      "execution_count": null,
      "outputs": []
    },
    {
      "cell_type": "code",
      "source": [
        "preds = model(list(df_eval.drop(columns=['Species'])[['Petal.Length', 'Petal.Width', 'Sepal.Length', 'Sepal.Width']].values.T)).numpy().argmax(axis=1)"
      ],
      "metadata": {
        "id": "zt2dKQhnCRVq"
      },
      "execution_count": null,
      "outputs": []
    },
    {
      "cell_type": "code",
      "source": [
        "target = df_eval.Species.values"
      ],
      "metadata": {
        "id": "1hnffYMoEqLN"
      },
      "execution_count": null,
      "outputs": []
    },
    {
      "cell_type": "code",
      "source": [
        "(preds == target).mean()"
      ],
      "metadata": {
        "id": "eNTEEhO9GLqW"
      },
      "execution_count": null,
      "outputs": []
    },
    {
      "cell_type": "markdown",
      "source": [
        "### Servindo no TF Serving"
      ],
      "metadata": {
        "id": "F9IVakglSj7f"
      }
    },
    {
      "cell_type": "markdown",
      "source": [
        "### Vamos checar a assinatura do modelo usando a `saved-model-cli`"
      ],
      "metadata": {
        "id": "WhMQTqmqS3Ia"
      }
    },
    {
      "cell_type": "code",
      "source": [
        "!saved_model_cli show --dir {pushed_model_uri} --tag_set serve --signature_def serving_default"
      ],
      "metadata": {
        "id": "Jwyp6APDSd1Z"
      },
      "execution_count": null,
      "outputs": []
    },
    {
      "cell_type": "markdown",
      "source": [
        "### E agora servi-lo-emos com TF Serving"
      ],
      "metadata": {
        "id": "PF4_pwlWS8GS"
      }
    },
    {
      "cell_type": "markdown",
      "source": [
        "## Sobre TF Serving:\n",
        "\n",
        "É a forma canônica de servir modelos de Tensorflow. Com um modelo salvo no formato TF SavedModel, é possível serví-lo usando um servidor pré-feito, evitando gambiarras com APIs feitas na mão e que podem trazer problemas de concorrência. \n",
        "\n",
        "Com TF Serving é possível servir e consultar modelos de Tensorflow de forma rápida e sem escrever código, usando somente a CLI ou imagem do Docker. \n",
        "\n",
        "[Mais informações na documentação.](Mais informações na documentação.)"
      ],
      "metadata": {
        "id": "6diaY-XjV6q6"
      }
    },
    {
      "cell_type": "code",
      "source": [
        "# Em produção se faz isso com Docker, mas ele não é suportado no Colab\n",
        "!wget 'http://storage.googleapis.com/tensorflow-serving-apt/pool/tensorflow-model-server-universal-2.8.0/t/tensorflow-model-server-universal/tensorflow-model-server-universal_2.8.0_all.deb'\n",
        "!dpkg -i tensorflow-model-server-universal_2.8.0_all.deb"
      ],
      "metadata": {
        "id": "2zC9HRgcT8z-"
      },
      "execution_count": null,
      "outputs": []
    },
    {
      "cell_type": "code",
      "source": [
        "%%bash --bg \n",
        "\n",
        "nohup tensorflow_model_server \\\n",
        "  --rest_api_port=8501 \\\n",
        "  --model_name=\"iris-model\" \\\n",
        "  --model_base_path=\"/content/models-to-serve/iris-model\" >server.log 2>&1"
      ],
      "metadata": {
        "id": "aGEmvY1_TTRp"
      },
      "execution_count": null,
      "outputs": []
    },
    {
      "cell_type": "markdown",
      "source": [
        "### Vamos ver o que o modelo espera"
      ],
      "metadata": {
        "id": "6H0E8k89Wcvk"
      }
    },
    {
      "cell_type": "code",
      "source": [
        "!curl -X GET http://localhost:8501/v1/models/iris-model/metadata"
      ],
      "metadata": {
        "id": "07BcOjyPU9tY"
      },
      "execution_count": null,
      "outputs": []
    },
    {
      "cell_type": "markdown",
      "source": [
        "### E agora consultar o modelo"
      ],
      "metadata": {
        "id": "J4tNuSbSWe7N"
      }
    },
    {
      "cell_type": "code",
      "source": [
        "!curl -d '{\"instances\": [{\"Petal.Length\":[1.0], \"Petal.Width\":[1.0], \"Sepal.Length\":[1.0], \"Sepal.Width\":[1.0]}] }' \\\n",
        "    -X POST http://localhost:8501/v1/models/iris-model:predict"
      ],
      "metadata": {
        "id": "vdNYts1ATwiM"
      },
      "execution_count": null,
      "outputs": []
    },
    {
      "cell_type": "code",
      "source": [],
      "metadata": {
        "id": "ccAgPkZXVfOz"
      },
      "execution_count": null,
      "outputs": []
    }
  ]
}